{
 "cells": [
  {
   "cell_type": "markdown",
   "metadata": {},
   "source": [
    "TensorFlow的高级机器学习API (tf.contrib.learn)很容易配置、训练以及评估各种各样的学习模型。这次要构造一个神经网络分类模型，用鸢尾花训练数据进行训练，然后预测鸢尾花对类别。步骤如下："
   ]
  },
  {
   "cell_type": "markdown",
   "metadata": {},
   "source": [
    "·把csv格式的训练/测试数据加载到TensorFlow\n",
    "\n",
    "·构建一个神经网络分类器\n",
    "\n",
    "·训练模型\n",
    "\n",
    "·评估模型精度\n",
    "\n",
    "·预测新样本的分类"
   ]
  },
  {
   "cell_type": "markdown",
   "metadata": {},
   "source": [
    "### 下载训练与准备数据"
   ]
  },
  {
   "cell_type": "markdown",
   "metadata": {},
   "source": [
    "![flowers](https://www.tensorflow.org/images/iris_three_species.jpg)"
   ]
  },
  {
   "cell_type": "markdown",
   "metadata": {},
   "source": [
    "每条数据 包含三个特征量和一条标签，样例数据如下"
   ]
  },
  {
   "cell_type": "markdown",
   "metadata": {},
   "source": [
    "![test](http://ok33lph8y.bkt.clouddn.com/snipaste20180323_065237.png)"
   ]
  },
  {
   "cell_type": "markdown",
   "metadata": {},
   "source": [
    "### 导入依赖库"
   ]
  },
  {
   "cell_type": "code",
   "execution_count": 2,
   "metadata": {},
   "outputs": [
    {
     "name": "stderr",
     "output_type": "stream",
     "text": [
      "E:\\Anaconda\\lib\\site-packages\\h5py\\__init__.py:36: FutureWarning: Conversion of the second argument of issubdtype from `float` to `np.floating` is deprecated. In future, it will be treated as `np.float64 == np.dtype(float).type`.\n",
      "  from ._conv import register_converters as _register_converters\n"
     ]
    }
   ],
   "source": [
    "from __future__ import absolute_import\n",
    "from __future__ import division\n",
    "from __future__ import print_function\n",
    "\n",
    "import tensorflow as tf\n",
    "import numpy as np"
   ]
  },
  {
   "cell_type": "markdown",
   "metadata": {},
   "source": [
    "然后用 load_csv_with_header()方法把数据加载到数据集(Datasets)变量里. 这个方法有3个参数：\n",
    "\n",
    "filename：csv文件地址 target_dtype: 数据集目标值的类型。本例中，目标是分类，用0～2表示，所以是整数。 features_dtype：数据集特征值的类型。本例中，特征是花萼、花瓣的长宽，是浮点数。"
   ]
  },
  {
   "cell_type": "code",
   "execution_count": 3,
   "metadata": {},
   "outputs": [],
   "source": [
    "# Data sets\n",
    "IRIS_TRAINING = \"iris_training.csv\"\n",
    "IRIS_TEST = \"iris_test.csv\"\n",
    "\n",
    "# Load datasets.\n",
    "training_set = tf.contrib.learn.datasets.base.load_csv_with_header(\n",
    "    filename=IRIS_TRAINING,\n",
    "    target_dtype=np.int,\n",
    "    features_dtype=np.float32)\n",
    "test_set = tf.contrib.learn.datasets.base.load_csv_with_header(\n",
    "    filename=IRIS_TEST,\n",
    "    target_dtype=np.int,\n",
    "    features_dtype=np.float32)"
   ]
  },
  {
   "cell_type": "markdown",
   "metadata": {},
   "source": [
    "tf.contrib.learn的数据集(Datasets)是命名元组(named tuples)类型的; 可以通过data和target属性来访问特征数据和标签数据。"
   ]
  },
  {
   "cell_type": "markdown",
   "metadata": {},
   "source": [
    "### 准备我们的模型\n",
    "tf.contrib.learn预定义了很多模型，可以通过Estimators来使用。我们可以直接拿它们来训练和评估数据。下面用 DNNClassifier 来初始化一个深度神经网络分类器。"
   ]
  },
  {
   "cell_type": "code",
   "execution_count": 4,
   "metadata": {},
   "outputs": [
    {
     "name": "stdout",
     "output_type": "stream",
     "text": [
      "INFO:tensorflow:Using default config.\n",
      "INFO:tensorflow:Using config: {'_save_checkpoints_steps': None, '_session_config': None, '_evaluation_master': '', '_cluster_spec': <tensorflow.python.training.server_lib.ClusterSpec object at 0x000001D7F3B6DB38>, '_tf_random_seed': None, '_num_ps_replicas': 0, '_task_id': 0, '_keep_checkpoint_every_n_hours': 10000, '_task_type': None, '_keep_checkpoint_max': 5, '_model_dir': '/tmp/iris_model', '_master': '', '_log_step_count_steps': 100, '_environment': 'local', '_num_worker_replicas': 0, '_tf_config': gpu_options {\n",
      "  per_process_gpu_memory_fraction: 1\n",
      "}\n",
      ", '_save_checkpoints_secs': 600, '_save_summary_steps': 100, '_is_chief': True}\n"
     ]
    }
   ],
   "source": [
    "# Specify that all features have real-value data\n",
    "feature_columns = [tf.contrib.layers.real_valued_column(\"\", dimension=4)]\n",
    "\n",
    "# Build 3 layer DNN with 10, 20, 10 units respectively.\n",
    "classifier = tf.contrib.learn.DNNClassifier(feature_columns=feature_columns,\n",
    "                                            hidden_units=[10, 20, 10],\n",
    "                                            n_classes=3,\n",
    "                                            model_dir=\"/tmp/iris_model\")"
   ]
  },
  {
   "cell_type": "markdown",
   "metadata": {},
   "source": [
    "第一行定义模型的特征列，设定数据集里面特征值的数据类型。数据集里有4个特征(花萼长度、花萼宽度、花瓣长度、花瓣宽度)，所以把维度(dimensions)设为4.\n",
    "\n",
    "DNNClassifier模型的参数：\n",
    "\n",
    "feature_columns=feature_columns 特征列的值\n",
    "\n",
    "hidden_units=[10, 20, 10] 三个隐藏层，分别有10、20、10个神经元\n",
    "\n",
    "n_classes=3 三个分类，分别代表三种花\n",
    "\n",
    "model_dir=/tmp/iris_model 训练的时候，TensorFlow用来存储检查点(checkpoint)数据。详情可参考：\n",
    "https://www.tensorflow.org/versions/r0.12/tutorials/monitors/index.html"
   ]
  },
  {
   "cell_type": "markdown",
   "metadata": {},
   "source": [
    "### 训练模型\n",
    "现在有了DNN classifier 模型，可以通过fit()方法去适配训练数据集。传入训练集的特征(training_set.data)、目标值(training_set.target)和训练步数(这里是2000)"
   ]
  },
  {
   "cell_type": "code",
   "execution_count": 5,
   "metadata": {},
   "outputs": [
    {
     "name": "stdout",
     "output_type": "stream",
     "text": [
      "WARNING:tensorflow:From <ipython-input-5-b0a39758097e>:2: calling BaseEstimator.fit (from tensorflow.contrib.learn.python.learn.estimators.estimator) with x is deprecated and will be removed after 2016-12-01.\n",
      "Instructions for updating:\n",
      "Estimator is decoupled from Scikit Learn interface by moving into\n",
      "separate class SKCompat. Arguments x, y and batch_size are only\n",
      "available in the SKCompat class, Estimator will only accept input_fn.\n",
      "Example conversion:\n",
      "  est = Estimator(...) -> est = SKCompat(Estimator(...))\n",
      "WARNING:tensorflow:From <ipython-input-5-b0a39758097e>:2: calling BaseEstimator.fit (from tensorflow.contrib.learn.python.learn.estimators.estimator) with y is deprecated and will be removed after 2016-12-01.\n",
      "Instructions for updating:\n",
      "Estimator is decoupled from Scikit Learn interface by moving into\n",
      "separate class SKCompat. Arguments x, y and batch_size are only\n",
      "available in the SKCompat class, Estimator will only accept input_fn.\n",
      "Example conversion:\n",
      "  est = Estimator(...) -> est = SKCompat(Estimator(...))\n",
      "INFO:tensorflow:Create CheckpointSaverHook.\n",
      "INFO:tensorflow:Saving checkpoints for 1 into /tmp/iris_model\\model.ckpt.\n",
      "INFO:tensorflow:loss = 2.0995634, step = 1\n",
      "INFO:tensorflow:global_step/sec: 512.771\n",
      "INFO:tensorflow:loss = 0.30067253, step = 101 (0.198 sec)\n",
      "INFO:tensorflow:global_step/sec: 717.511\n",
      "INFO:tensorflow:loss = 0.12677288, step = 201 (0.139 sec)\n",
      "INFO:tensorflow:global_step/sec: 797.876\n",
      "INFO:tensorflow:loss = 0.10510162, step = 301 (0.125 sec)\n",
      "INFO:tensorflow:global_step/sec: 824.25\n",
      "INFO:tensorflow:loss = 0.07905834, step = 401 (0.122 sec)\n",
      "INFO:tensorflow:global_step/sec: 827.646\n",
      "INFO:tensorflow:loss = 0.07070724, step = 501 (0.120 sec)\n",
      "INFO:tensorflow:global_step/sec: 894.495\n",
      "INFO:tensorflow:loss = 0.06469332, step = 601 (0.113 sec)\n",
      "INFO:tensorflow:global_step/sec: 712.388\n",
      "INFO:tensorflow:loss = 0.06028719, step = 701 (0.139 sec)\n",
      "INFO:tensorflow:global_step/sec: 586.671\n",
      "INFO:tensorflow:loss = 0.06071726, step = 801 (0.172 sec)\n",
      "INFO:tensorflow:global_step/sec: 608.134\n",
      "INFO:tensorflow:loss = 0.056264322, step = 901 (0.163 sec)\n",
      "INFO:tensorflow:global_step/sec: 625.292\n",
      "INFO:tensorflow:loss = 0.054403163, step = 1001 (0.160 sec)\n",
      "INFO:tensorflow:global_step/sec: 814.151\n",
      "INFO:tensorflow:loss = 0.052640907, step = 1101 (0.122 sec)\n",
      "INFO:tensorflow:global_step/sec: 643.447\n",
      "INFO:tensorflow:loss = 0.051137503, step = 1201 (0.155 sec)\n",
      "INFO:tensorflow:global_step/sec: 874.86\n",
      "INFO:tensorflow:loss = 0.049812853, step = 1301 (0.115 sec)\n",
      "INFO:tensorflow:global_step/sec: 838.1\n",
      "INFO:tensorflow:loss = 0.04865806, step = 1401 (0.119 sec)\n",
      "INFO:tensorflow:global_step/sec: 848.8\n",
      "INFO:tensorflow:loss = 0.047826257, step = 1501 (0.119 sec)\n",
      "INFO:tensorflow:global_step/sec: 852.432\n",
      "INFO:tensorflow:loss = 0.046978455, step = 1601 (0.118 sec)\n",
      "INFO:tensorflow:global_step/sec: 820.837\n",
      "INFO:tensorflow:loss = 0.046215024, step = 1701 (0.121 sec)\n",
      "INFO:tensorflow:global_step/sec: 845.213\n",
      "INFO:tensorflow:loss = 0.0455398, step = 1801 (0.118 sec)\n",
      "INFO:tensorflow:global_step/sec: 874.858\n",
      "INFO:tensorflow:loss = 0.045353904, step = 1901 (0.115 sec)\n",
      "INFO:tensorflow:Saving checkpoints for 2000 into /tmp/iris_model\\model.ckpt.\n",
      "INFO:tensorflow:Loss for final step: 0.04448099.\n"
     ]
    },
    {
     "data": {
      "text/plain": [
       "DNNClassifier(params={'activation_fn': <function relu at 0x000001D7EFFC61E0>, 'gradient_clip_norm': None, 'embedding_lr_multipliers': None, 'optimizer': None, 'input_layer_min_slice_size': None, 'hidden_units': [10, 20, 10], 'dropout': None, 'feature_columns': (_RealValuedColumn(column_name='', dimension=4, default_value=None, dtype=tf.float32, normalizer=None),), 'head': <tensorflow.contrib.learn.python.learn.estimators.head._MultiClassHead object at 0x000001D7F3B6DCC0>})"
      ]
     },
     "execution_count": 5,
     "metadata": {},
     "output_type": "execute_result"
    }
   ],
   "source": [
    "# Fit model\n",
    "classifier.fit(x=training_set.data, y=training_set.target, steps=2000)"
   ]
  },
  {
   "cell_type": "markdown",
   "metadata": {},
   "source": [
    "模型的状态会存在classifier里，所以可以反复训练。上面的代码等价于"
   ]
  },
  {
   "cell_type": "code",
   "execution_count": 6,
   "metadata": {},
   "outputs": [
    {
     "name": "stdout",
     "output_type": "stream",
     "text": [
      "INFO:tensorflow:Create CheckpointSaverHook.\n",
      "INFO:tensorflow:Restoring parameters from /tmp/iris_model\\model.ckpt-2000\n",
      "INFO:tensorflow:Saving checkpoints for 2001 into /tmp/iris_model\\model.ckpt.\n",
      "INFO:tensorflow:loss = 0.04439896, step = 2001\n",
      "INFO:tensorflow:global_step/sec: 824.245\n",
      "INFO:tensorflow:loss = 0.0440429, step = 2101 (0.122 sec)\n",
      "INFO:tensorflow:global_step/sec: 882.601\n",
      "INFO:tensorflow:loss = 0.043414734, step = 2201 (0.114 sec)\n",
      "INFO:tensorflow:global_step/sec: 852.428\n",
      "INFO:tensorflow:loss = 0.0435036, step = 2301 (0.117 sec)\n",
      "INFO:tensorflow:global_step/sec: 886.528\n",
      "INFO:tensorflow:loss = 0.04209782, step = 2401 (0.113 sec)\n",
      "INFO:tensorflow:global_step/sec: 834.571\n",
      "INFO:tensorflow:loss = 0.04159502, step = 2501 (0.123 sec)\n",
      "INFO:tensorflow:global_step/sec: 838.066\n",
      "INFO:tensorflow:loss = 0.041020524, step = 2601 (0.117 sec)\n",
      "INFO:tensorflow:global_step/sec: 776.07\n",
      "INFO:tensorflow:loss = 0.04287686, step = 2701 (0.128 sec)\n",
      "INFO:tensorflow:global_step/sec: 727.988\n",
      "INFO:tensorflow:loss = 0.04011833, step = 2801 (0.138 sec)\n",
      "INFO:tensorflow:global_step/sec: 820.853\n",
      "INFO:tensorflow:loss = 0.03957008, step = 2901 (0.121 sec)\n",
      "INFO:tensorflow:Saving checkpoints for 3000 into /tmp/iris_model\\model.ckpt.\n",
      "INFO:tensorflow:Loss for final step: 0.038996316.\n",
      "INFO:tensorflow:Create CheckpointSaverHook.\n",
      "INFO:tensorflow:Restoring parameters from /tmp/iris_model\\model.ckpt-3000\n",
      "INFO:tensorflow:Saving checkpoints for 3001 into /tmp/iris_model\\model.ckpt.\n",
      "INFO:tensorflow:loss = 0.039240193, step = 3001\n",
      "INFO:tensorflow:global_step/sec: 755.504\n",
      "INFO:tensorflow:loss = 0.03887197, step = 3101 (0.133 sec)\n",
      "INFO:tensorflow:global_step/sec: 870.963\n",
      "INFO:tensorflow:loss = 0.04133938, step = 3201 (0.116 sec)\n",
      "INFO:tensorflow:global_step/sec: 863.379\n",
      "INFO:tensorflow:loss = 0.03756439, step = 3301 (0.116 sec)\n",
      "INFO:tensorflow:global_step/sec: 851.341\n",
      "INFO:tensorflow:loss = 0.03716557, step = 3401 (0.116 sec)\n",
      "INFO:tensorflow:global_step/sec: 820.723\n",
      "INFO:tensorflow:loss = 0.036767147, step = 3501 (0.123 sec)\n",
      "INFO:tensorflow:global_step/sec: 817.479\n",
      "INFO:tensorflow:loss = 0.03692185, step = 3601 (0.123 sec)\n",
      "INFO:tensorflow:global_step/sec: 845.2\n",
      "INFO:tensorflow:loss = 0.036610223, step = 3701 (0.117 sec)\n",
      "INFO:tensorflow:global_step/sec: 757.006\n",
      "INFO:tensorflow:loss = 0.036435246, step = 3801 (0.132 sec)\n",
      "INFO:tensorflow:global_step/sec: 870.439\n",
      "INFO:tensorflow:loss = 0.035803627, step = 3901 (0.115 sec)\n",
      "INFO:tensorflow:Saving checkpoints for 4000 into /tmp/iris_model\\model.ckpt.\n",
      "INFO:tensorflow:Loss for final step: 0.036083777.\n"
     ]
    },
    {
     "data": {
      "text/plain": [
       "DNNClassifier(params={'activation_fn': <function relu at 0x000001D7EFFC61E0>, 'gradient_clip_norm': None, 'embedding_lr_multipliers': None, 'optimizer': None, 'input_layer_min_slice_size': None, 'hidden_units': [10, 20, 10], 'dropout': None, 'feature_columns': (_RealValuedColumn(column_name='', dimension=4, default_value=None, dtype=tf.float32, normalizer=None),), 'head': <tensorflow.contrib.learn.python.learn.estimators.head._MultiClassHead object at 0x000001D7F3B6DCC0>})"
      ]
     },
     "execution_count": 6,
     "metadata": {},
     "output_type": "execute_result"
    }
   ],
   "source": [
    "classifier.fit(x=training_set.data, y=training_set.target, steps=1000)\n",
    "classifier.fit(x=training_set.data, y=training_set.target, steps=1000)"
   ]
  },
  {
   "cell_type": "markdown",
   "metadata": {},
   "source": [
    "### 评估模型精度\n",
    "我们已经训练了DNNClassifier模型，可以用evaluate()方法在测试数据集上检查它的精度。我们已经训练了DNNClassifier模型，可以用evaluate也需要传入data和target，返回一个dict类型的结果。"
   ]
  },
  {
   "cell_type": "code",
   "execution_count": 7,
   "metadata": {},
   "outputs": [
    {
     "name": "stdout",
     "output_type": "stream",
     "text": [
      "WARNING:tensorflow:From <ipython-input-7-1ce6799930bc>:1: calling BaseEstimator.evaluate (from tensorflow.contrib.learn.python.learn.estimators.estimator) with x is deprecated and will be removed after 2016-12-01.\n",
      "Instructions for updating:\n",
      "Estimator is decoupled from Scikit Learn interface by moving into\n",
      "separate class SKCompat. Arguments x, y and batch_size are only\n",
      "available in the SKCompat class, Estimator will only accept input_fn.\n",
      "Example conversion:\n",
      "  est = Estimator(...) -> est = SKCompat(Estimator(...))\n",
      "WARNING:tensorflow:From <ipython-input-7-1ce6799930bc>:1: calling BaseEstimator.evaluate (from tensorflow.contrib.learn.python.learn.estimators.estimator) with y is deprecated and will be removed after 2016-12-01.\n",
      "Instructions for updating:\n",
      "Estimator is decoupled from Scikit Learn interface by moving into\n",
      "separate class SKCompat. Arguments x, y and batch_size are only\n",
      "available in the SKCompat class, Estimator will only accept input_fn.\n",
      "Example conversion:\n",
      "  est = Estimator(...) -> est = SKCompat(Estimator(...))\n",
      "INFO:tensorflow:Starting evaluation at 2018-03-22-23:05:54\n",
      "INFO:tensorflow:Restoring parameters from /tmp/iris_model\\model.ckpt-4000\n",
      "INFO:tensorflow:Finished evaluation at 2018-03-22-23:05:55\n",
      "INFO:tensorflow:Saving dict for global step 4000: accuracy = 0.96666664, global_step = 4000, loss = 0.066047914\n",
      "Accuracy: 0.966667\n"
     ]
    }
   ],
   "source": [
    "accuracy_score = classifier.evaluate(x=test_set.data, y=test_set.target)[\"accuracy\"]\n",
    "print('Accuracy: {0:f}'.format(accuracy_score))"
   ]
  },
  {
   "cell_type": "markdown",
   "metadata": {},
   "source": [
    "###  预测新样本的分类"
   ]
  },
  {
   "cell_type": "markdown",
   "metadata": {},
   "source": [
    "TensorFlow提供了classifier.predict()来预测新样本。"
   ]
  },
  {
   "cell_type": "code",
   "execution_count": 8,
   "metadata": {},
   "outputs": [
    {
     "name": "stdout",
     "output_type": "stream",
     "text": [
      "WARNING:tensorflow:From E:\\Anaconda\\lib\\site-packages\\tensorflow\\python\\util\\deprecation.py:381: calling DNNClassifier.predict (from tensorflow.contrib.learn.python.learn.estimators.dnn) with outputs=None is deprecated and will be removed after 2017-03-01.\n",
      "Instructions for updating:\n",
      "Please switch to predict_classes, or set `outputs` argument.\n",
      "WARNING:tensorflow:From E:\\Anaconda\\lib\\site-packages\\tensorflow\\contrib\\learn\\python\\learn\\estimators\\dnn.py:454: calling BaseEstimator.predict (from tensorflow.contrib.learn.python.learn.estimators.estimator) with x is deprecated and will be removed after 2016-12-01.\n",
      "Instructions for updating:\n",
      "Estimator is decoupled from Scikit Learn interface by moving into\n",
      "separate class SKCompat. Arguments x, y and batch_size are only\n",
      "available in the SKCompat class, Estimator will only accept input_fn.\n",
      "Example conversion:\n",
      "  est = Estimator(...) -> est = SKCompat(Estimator(...))\n",
      "WARNING:tensorflow:float64 is not supported by many models, consider casting to float32.\n",
      "INFO:tensorflow:Restoring parameters from /tmp/iris_model\\model.ckpt-4000\n",
      "Predictions: [1, 2]\n"
     ]
    }
   ],
   "source": [
    "# Classify two new flower samples.\n",
    "new_samples = np.array([[6.4, 3.2, 4.5, 1.5], [5.8, 3.1, 5.0, 1.7]], dtype=float)\n",
    "y = list(classifier.predict(new_samples, as_iterable=True))\n",
    "print('Predictions: {}'.format(str(y)))"
   ]
  },
  {
   "cell_type": "code",
   "execution_count": null,
   "metadata": {},
   "outputs": [],
   "source": []
  }
 ],
 "metadata": {
  "kernelspec": {
   "display_name": "Python 3",
   "language": "python",
   "name": "python3"
  },
  "language_info": {
   "codemirror_mode": {
    "name": "ipython",
    "version": 3
   },
   "file_extension": ".py",
   "mimetype": "text/x-python",
   "name": "python",
   "nbconvert_exporter": "python",
   "pygments_lexer": "ipython3",
   "version": "3.5.4"
  }
 },
 "nbformat": 4,
 "nbformat_minor": 2
}
