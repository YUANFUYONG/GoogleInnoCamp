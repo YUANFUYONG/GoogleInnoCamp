{
 "cells": [
  {
   "cell_type": "markdown",
   "metadata": {},
   "source": [
    "### 开包即用的MNIST手写数字识别"
   ]
  },
  {
   "cell_type": "markdown",
   "metadata": {},
   "source": [
    "在本workshop，我将演示如何使用两个Canned Estimators（这些封装了迄今为止我们已经看到的较低级别的TensorFlow代码，并且使用了一个 [scikit-learn](scikit-learn.org)的API。 Canned Estimators有几个优点。\n",
    "\n",
    "* 则无需管理会话Session，也无需为TensorBoard编写自己的逻辑，也无需保存和加载检查点。\n",
    "\n",
    "\n",
    "* 您将获得开箱即用的分布式培训（当然，您将不得不小心有效地读取数据并设置群集）。\n",
    "\n",
    "我们将使用输入函数 [input functions](https://www.tensorflow.org/api_docs/python/tf/estimator/inputs/numpy_input_fn)读取数据\n",
    "\n",
    "* 这些为您提供批处理和其他功能，因此您不必亲自编写代码。\n",
    "\n",
    "\n",
    "* 在结构化的 data nootbook 中，我们将使用新的 [Dataset API](https://github.com/tensorflow/tensorflow/blob/master/tensorflow/docs_src/programmers_guide/datasets.md) - 一种高效读取和预处理大型数据集的有效方法\n",
    "\n",
    "虽然我们在这里使用的 Estimators 是相对简单的（一个LinearClassifier和一个完全连接的深度神经网络），你可以在官网找到更有趣的 (including for [TensorFlow Wide and Deep](https://www.tensorflow.org/tutorials/wide_and_deep).\n",
    "\n",
    "Estimators 有着相当多的输出"
   ]
  },
  {
   "cell_type": "code",
   "execution_count": 1,
   "metadata": {},
   "outputs": [
    {
     "name": "stderr",
     "output_type": "stream",
     "text": [
      "E:\\Anaconda\\lib\\site-packages\\h5py\\__init__.py:36: FutureWarning: Conversion of the second argument of issubdtype from `float` to `np.floating` is deprecated. In future, it will be treated as `np.float64 == np.dtype(float).type`.\n",
      "  from ._conv import register_converters as _register_converters\n"
     ]
    }
   ],
   "source": [
    "from __future__ import absolute_import\n",
    "from __future__ import division\n",
    "from __future__ import print_function\n",
    "\n",
    "import numpy as np\n",
    "import tensorflow as tf"
   ]
  },
  {
   "cell_type": "code",
   "execution_count": 3,
   "metadata": {},
   "outputs": [
    {
     "name": "stdout",
     "output_type": "stream",
     "text": [
      "60000 train samples\n",
      "10000 test samples\n"
     ]
    }
   ],
   "source": [
    "# 我们将使用Keras（包含在TensorFlow中）导入数据\n",
    "(x_train, y_train), (x_test, y_test) = tf.contrib.keras.datasets.mnist.load_data()\n",
    "# f = np.load('data/mnist.npz')  \n",
    "# x_train, y_train = f['x_train'], f['y_train']  \n",
    "# x_test, y_test = f['x_test'], f['y_test']  \n",
    "# f.close()  \n",
    "\n",
    "x_train = x_train.astype('float32')\n",
    "x_test = x_test.astype('float32')\n",
    "\n",
    "y_train = y_train.astype('int32')\n",
    "y_test = y_test.astype('int32')\n",
    "\n",
    "# Normalize the color values to 0-1\n",
    "# (as imported, they're 0-255)\n",
    "x_train /= 255\n",
    "x_test /= 255\n",
    "\n",
    "print(x_train.shape[0], 'train samples')\n",
    "print(x_test.shape[0], 'test samples')"
   ]
  },
  {
   "cell_type": "markdown",
   "metadata": {},
   "source": [
    "这是我们的输入函数:\n",
    "\n",
    "* 设置 ```num_epochs``` 为 ```None``` 完全过一次训练样本\n",
    "\n",
    "* 设置 ```batch_size``` 为 ```128```  每次训练 128个样本\n",
    "\n",
    "* iteration：表示1次迭代（也叫training step），每次迭代更新1次网络结构的参数；\n",
    "\n",
    "* batch-size：1次迭代所使用的样本量；\n",
    "\n",
    "* epoch：1个epoch表示过了1遍训练集中的所有样本。\n"
   ]
  },
  {
   "cell_type": "code",
   "execution_count": 5,
   "metadata": {
    "collapsed": true
   },
   "outputs": [],
   "source": [
    "train_input = tf.estimator.inputs.numpy_input_fn(\n",
    "    {'x': x_train},\n",
    "    y_train, \n",
    "    num_epochs=None, \n",
    "    shuffle=True  #随机打乱输入\n",
    ")"
   ]
  },
  {
   "cell_type": "code",
   "execution_count": 6,
   "metadata": {
    "collapsed": true
   },
   "outputs": [],
   "source": [
    "test_input = tf.estimator.inputs.numpy_input_fn(\n",
    "    {'x': x_test},\n",
    "    y_test,\n",
    "    num_epochs=1, # 遍历测试数据集一次\n",
    "    shuffle=False # 不要对测试数据进行混淆\n",
    ")"
   ]
  },
  {
   "cell_type": "code",
   "execution_count": 7,
   "metadata": {
    "collapsed": true
   },
   "outputs": [],
   "source": [
    "# 定义我们模型的特征\n",
    "# 名称必须和我们在 train_input 中的一致\n",
    "feature_spec = [tf.feature_column.numeric_column('x', shape=784)]"
   ]
  },
  {
   "cell_type": "markdown",
   "metadata": {},
   "source": [
    "这里我们使用 ```LinearClassifier``` 分类器，这与softmax的作用是相同的"
   ]
  },
  {
   "cell_type": "code",
   "execution_count": 8,
   "metadata": {},
   "outputs": [
    {
     "name": "stdout",
     "output_type": "stream",
     "text": [
      "INFO:tensorflow:Using default config.\n",
      "INFO:tensorflow:Using config: {'_service': None, '_keep_checkpoint_max': 5, '_model_dir': './graphs/canned/linear', '_num_worker_replicas': 1, '_save_checkpoints_steps': None, '_tf_random_seed': None, '_task_id': 0, '_log_step_count_steps': 100, '_is_chief': True, '_keep_checkpoint_every_n_hours': 10000, '_session_config': None, '_save_checkpoints_secs': 600, '_master': '', '_num_ps_replicas': 0, '_cluster_spec': <tensorflow.python.training.server_lib.ClusterSpec object at 0x000001BC119FE860>, '_save_summary_steps': 100, '_task_type': 'worker'}\n"
     ]
    }
   ],
   "source": [
    "estimator = tf.estimator.LinearClassifier(feature_spec, \n",
    "                                          n_classes=10,\n",
    "                                          model_dir=\"./graphs/canned/linear\")"
   ]
  },
  {
   "cell_type": "code",
   "execution_count": 9,
   "metadata": {
    "scrolled": true
   },
   "outputs": [
    {
     "name": "stdout",
     "output_type": "stream",
     "text": [
      "INFO:tensorflow:Create CheckpointSaverHook.\n",
      "INFO:tensorflow:Saving checkpoints for 1 into ./graphs/canned/linear\\model.ckpt.\n",
      "INFO:tensorflow:loss = 294.73087, step = 1\n",
      "INFO:tensorflow:global_step/sec: 558.709\n",
      "INFO:tensorflow:loss = 67.24473, step = 101 (0.180 sec)\n",
      "INFO:tensorflow:global_step/sec: 560.295\n",
      "INFO:tensorflow:loss = 36.13924, step = 201 (0.178 sec)\n",
      "INFO:tensorflow:global_step/sec: 583.241\n",
      "INFO:tensorflow:loss = 67.71013, step = 301 (0.173 sec)\n",
      "INFO:tensorflow:global_step/sec: 563.469\n",
      "INFO:tensorflow:loss = 39.67474, step = 401 (0.175 sec)\n",
      "INFO:tensorflow:global_step/sec: 608.135\n",
      "INFO:tensorflow:loss = 35.52318, step = 501 (0.164 sec)\n",
      "INFO:tensorflow:global_step/sec: 600.806\n",
      "INFO:tensorflow:loss = 50.88822, step = 601 (0.167 sec)\n",
      "INFO:tensorflow:global_step/sec: 533.338\n",
      "INFO:tensorflow:loss = 44.3544, step = 701 (0.187 sec)\n",
      "INFO:tensorflow:global_step/sec: 569.908\n",
      "INFO:tensorflow:loss = 44.950783, step = 801 (0.176 sec)\n",
      "INFO:tensorflow:global_step/sec: 641.376\n",
      "INFO:tensorflow:loss = 46.815098, step = 901 (0.155 sec)\n",
      "INFO:tensorflow:Saving checkpoints for 1000 into ./graphs/canned/linear\\model.ckpt.\n",
      "INFO:tensorflow:Loss for final step: 26.696907.\n"
     ]
    },
    {
     "data": {
      "text/plain": [
       "<tensorflow.python.estimator.canned.linear.LinearClassifier at 0x1bc119fe438>"
      ]
     },
     "execution_count": 9,
     "metadata": {},
     "output_type": "execute_result"
    }
   ],
   "source": [
    "# I've arbitrarily decided to train for 1000 steps\n",
    "estimator.train(train_input, steps=1000)"
   ]
  },
  {
   "cell_type": "code",
   "execution_count": 10,
   "metadata": {},
   "outputs": [
    {
     "name": "stdout",
     "output_type": "stream",
     "text": [
      "INFO:tensorflow:Starting evaluation at 2018-03-23-07:46:52\n",
      "INFO:tensorflow:Restoring parameters from ./graphs/canned/linear\\model.ckpt-1000\n",
      "INFO:tensorflow:Finished evaluation at 2018-03-23-07:46:52\n",
      "INFO:tensorflow:Saving dict for global step 1000: accuracy = 0.9249, average_loss = 0.27294406, global_step = 1000, loss = 34.54988\n",
      "{'loss': 34.54988, 'accuracy': 0.9249, 'global_step': 1000, 'average_loss': 0.27294406}\n"
     ]
    }
   ],
   "source": [
    "# 应该只有90%的准确度\n",
    "evaluation = estimator.evaluate(input_fn=test_input)\n",
    "print(evaluation)"
   ]
  },
  {
   "cell_type": "markdown",
   "metadata": {},
   "source": [
    "我们使用训练好的数据进行预测"
   ]
  },
  {
   "cell_type": "code",
   "execution_count": null,
   "metadata": {
    "collapsed": true
   },
   "outputs": [],
   "source": [
    "MAX_TO_PRINT = 5\n",
    "\n",
    "# 这会返回一个生成器对象\n",
    "predictions = estimator.predict(input_fn=test_input)\n",
    "i = 0\n",
    "for p in predictions:\n",
    "    true_label = y_test[i]\n",
    "    predicted_label = p['class_ids'][0]\n",
    "    print(\"Example %d. True: %d, Predicted: %d\" % (i, true_label, predicted_label))\n",
    "    i += 1\n",
    "    if i == MAX_TO_PRINT: break"
   ]
  },
  {
   "cell_type": "markdown",
   "metadata": {},
   "source": [
    "这里我们使用DNN分类器(深度神经网络)全连接"
   ]
  },
  {
   "cell_type": "code",
   "execution_count": null,
   "metadata": {
    "collapsed": true
   },
   "outputs": [],
   "source": [
    "estimator = tf.estimator.DNNClassifier(\n",
    "    hidden_units=[256], \n",
    "    feature_columns=feature_spec,\n",
    "    n_classes=10,\n",
    "    model_dir=\"./graphs/canned/deep\")"
   ]
  },
  {
   "cell_type": "code",
   "execution_count": null,
   "metadata": {
    "collapsed": true
   },
   "outputs": [],
   "source": [
    "# 这里我们训练2000步\n",
    "estimator.train(train_input, steps=2000)"
   ]
  },
  {
   "cell_type": "code",
   "execution_count": null,
   "metadata": {
    "collapsed": true
   },
   "outputs": [],
   "source": [
    "# 准确度大概97%\n",
    "evaluation = estimator.evaluate(input_fn=test_input)\n",
    "print(evaluation)"
   ]
  },
  {
   "cell_type": "markdown",
   "metadata": {},
   "source": [
    "可以打开tensorBoard查看模型\n",
    "\n",
    "``` $ tensorboard --logdir=graphs/canned/ ```"
   ]
  },
  {
   "cell_type": "code",
   "execution_count": null,
   "metadata": {
    "collapsed": true
   },
   "outputs": [],
   "source": []
  },
  {
   "cell_type": "code",
   "execution_count": null,
   "metadata": {
    "collapsed": true
   },
   "outputs": [],
   "source": []
  },
  {
   "cell_type": "code",
   "execution_count": null,
   "metadata": {
    "collapsed": true
   },
   "outputs": [],
   "source": []
  },
  {
   "cell_type": "code",
   "execution_count": null,
   "metadata": {
    "collapsed": true
   },
   "outputs": [],
   "source": []
  }
 ],
 "metadata": {
  "kernelspec": {
   "display_name": "Python 3",
   "language": "python",
   "name": "python3"
  },
  "language_info": {
   "codemirror_mode": {
    "name": "ipython",
    "version": 3
   },
   "file_extension": ".py",
   "mimetype": "text/x-python",
   "name": "python",
   "nbconvert_exporter": "python",
   "pygments_lexer": "ipython3",
   "version": "3.6.2"
  }
 },
 "nbformat": 4,
 "nbformat_minor": 2
}
